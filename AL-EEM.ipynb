{
 "cells": [
  {
   "cell_type": "code",
   "execution_count": null,
   "metadata": {},
   "outputs": [],
   "source": [
    "from util import *"
   ]
  },
  {
   "cell_type": "markdown",
   "metadata": {},
   "source": [
    "# Gaussian Clusters Example"
   ]
  },
  {
   "cell_type": "code",
   "execution_count": null,
   "metadata": {},
   "outputs": [],
   "source": [
    "# Problem Setup --- Need to rework this example to be more general. I've made it so that the clusters are \n",
    "# in consecutive order for plotting m (0-99, 100-199). For this I had to re write the helper functions when \n",
    "# doing the Two moons dataset.\n",
    "\n",
    "Ns = [100,100]\n",
    "N = sum(Ns)\n",
    "fs = 5\n",
    "means = [np.array([1.0,0.]), np.array([-1.0,0.])]\n",
    "Covs = [0.3*np.eye(2), 0.3*np.eye(2)]\n",
    "\n",
    "X, W = generate_data_graphs(Ns, means, Covs)\n",
    "w,v = get_eig_Lnorm(W)\n",
    "\n",
    "tau, alpha, gamma = 0.001, 1.0, 0.0001\n",
    "gamma2 = gamma**2.\n",
    "B, labeled, ground_truth = other_setup(Ns,fs)\n",
    "unlabeled = [i for i in range(N) if i not in labeled]\n",
    "m, C, y = calc_orig(v, w, B, Ns, labeled, tau, alpha, gamma2)\n",
    "\n",
    "\n",
    "sup1 = labeled[labeled < Ns[0]]\n",
    "sup2 = labeled[labeled >= Ns[0]]\n",
    "plt.rcParams['figure.figsize'] = (6,4)\n",
    "plt.scatter(X[:100,0], X[:100,1], marker='x', c='k', alpha=0.2)\n",
    "plt.scatter(X[100:,0], X[100:,1], marker='o', c='k',alpha=0.15)\n",
    "plt.scatter(X[sup1,0], X[sup1,1], marker='x', c='b')\n",
    "plt.scatter(X[sup2,0], X[sup2,1], marker='o', c='r', alpha=1.0)\n",
    "plt.axis('equal')\n",
    "plt.title('Dataset with First-Iter Supervision')\n",
    "plt.show()"
   ]
  },
  {
   "cell_type": "markdown",
   "metadata": {},
   "source": [
    "## Active Learning -- EEM "
   ]
  },
  {
   "cell_type": "code",
   "execution_count": null,
   "metadata": {
    "scrolled": false
   },
   "outputs": [],
   "source": [
    "M = {}\n",
    "M[0] = m\n",
    "ERRS = []\n",
    "\n",
    "#print('Iter = 0')\n",
    "error, stats_obj = calc_stats(m, labeled, Ns)\n",
    "ERRS.append(error)\n",
    "#plot_iter(stats_obj, X, k_next=-1)\n",
    "\n",
    "\n",
    "\n",
    "# AL choices\n",
    "for l in range(20):\n",
    "    print('Iter = %d' % (l + 1))\n",
    "    k, m, C, y, labeled, unlabeled = run_next(m, C, y, labeled, unlabeled, ground_truth, gamma2)\n",
    "    error, stats_obj = calc_stats(m, labeled, Ns)\n",
    "    ERRS.append(error)\n",
    "    plot_iter(stats_obj, X, k_next=k)\n",
    "    M[l+1] = m\n"
   ]
  },
  {
   "cell_type": "markdown",
   "metadata": {},
   "source": [
    "# Analyzing solution $\\mathbf{m}$"
   ]
  },
  {
   "cell_type": "code",
   "execution_count": null,
   "metadata": {},
   "outputs": [],
   "source": [
    "lin = [i for i in range(N)]\n",
    "print(m.shape)\n",
    "print(len(lin))\n",
    "plt.scatter(lin, list(m), marker='.')\n",
    "plt.plot(lin, N*[0.], 'r--', linewidth=1.5)\n",
    "plt.title('Iter = %d' % l)\n",
    "plt.show()"
   ]
  },
  {
   "cell_type": "code",
   "execution_count": null,
   "metadata": {},
   "outputs": [],
   "source": [
    "m_new = m.copy()\n",
    "m_new[m_new > 1.] = 1.\n",
    "m_new[m_new < -1.] = -1.\n"
   ]
  },
  {
   "cell_type": "code",
   "execution_count": null,
   "metadata": {},
   "outputs": [],
   "source": [
    "def E(x):\n",
    "    vTx = v.T.dot(x.T)\n",
    "    wvTx = np.diag(w).dot(vTx)\n",
    "    val = vTx.T.dot(wvTx)\n",
    "    return  val + (1./gamma**2)*np.linalg.norm(B.dot(x.T).flatten() - y)**2."
   ]
  },
  {
   "cell_type": "code",
   "execution_count": null,
   "metadata": {},
   "outputs": [],
   "source": [
    "E_m = E(m)\n",
    "E_m_new = E(m_new)"
   ]
  },
  {
   "cell_type": "code",
   "execution_count": null,
   "metadata": {},
   "outputs": [],
   "source": [
    "print(E_m, E_m_new)"
   ]
  },
  {
   "cell_type": "code",
   "execution_count": null,
   "metadata": {
    "scrolled": false
   },
   "outputs": [],
   "source": [
    "for l in range(5):\n",
    "    if l % 3 == 0:\n",
    "        m = list(M[l])\n",
    "        lin = [i for i in range(N)]\n",
    "        plt.scatter(lin, m, marker='.')\n",
    "        plt.plot(lin, N*[0.], 'r--', linewidth=1.5)\n",
    "        plt.title('Iter = %d' % l)\n",
    "        plt.show()"
   ]
  },
  {
   "cell_type": "markdown",
   "metadata": {},
   "source": [
    "## Compare to Random Sampling"
   ]
  },
  {
   "cell_type": "code",
   "execution_count": null,
   "metadata": {
    "scrolled": false
   },
   "outputs": [],
   "source": [
    "# Random sampling  choices\n",
    "B, labeled, ground_truth = other_setup(Ns,fs)\n",
    "unlabeled = [i for i in range(N) if i not in labeled]\n",
    "\n",
    "m, C, y = calc_orig(v, w, B, Ns, labeled, tau, alpha, gamma2)\n",
    "\n",
    "M = {}\n",
    "M[0] = m\n",
    "ERRS_rand = []\n",
    "\n",
    "#print('Iter = 0')\n",
    "error, stats_obj = calc_stats(m, labeled, Ns)\n",
    "ERRS_rand.append(error)\n",
    "#plot_iter(stats_obj, X, k_next=-1)\n",
    "\n",
    "\n",
    "for l in range(20):\n",
    "    #print('Iter = %d' % (l+1))\n",
    "    \n",
    "    k_next = unlabeled[np.random.choice(len(unlabeled),1)[0]]\n",
    "    y_k_next = 1.\n",
    "    if k_next >= Ns[0]:\n",
    "        y_k_next = -1.\n",
    "\n",
    "    m, C = calc_next_C_and_m(m, C, y, labeled, k_next, y_k_next, gamma2)\n",
    "    y[k_next] = y_k_next\n",
    "    labeled = np.array(list(labeled)+ [k_next])\n",
    "    unlabeled.remove(k_next)\n",
    "    \n",
    "    error, stats_obj = calc_stats(m, labeled, Ns)\n",
    "    ERRS_rand.append(error)\n",
    "    #plot_iter(stats_obj, X, k_next=k_next)\n",
    "    M[l+1] = m"
   ]
  },
  {
   "cell_type": "code",
   "execution_count": null,
   "metadata": {},
   "outputs": [],
   "source": [
    "plt.plot(range(21),ERRS, 'b--', label='AL')\n",
    "plt.plot(range(21), ERRS_rand, 'g', label='random')\n",
    "plt.title('Convergence Plot')\n",
    "plt.legend()\n",
    "plt.show()"
   ]
  },
  {
   "cell_type": "markdown",
   "metadata": {},
   "source": [
    "# 2 Moons Example\n",
    "\n",
    "\n",
    "Functions in this section are defined in the ``util.py`` helper file with names like ``*2``, ``*2AL``, etc."
   ]
  },
  {
   "cell_type": "code",
   "execution_count": null,
   "metadata": {},
   "outputs": [],
   "source": [
    "from sklearn.datasets import make_moons"
   ]
  },
  {
   "cell_type": "code",
   "execution_count": null,
   "metadata": {},
   "outputs": [],
   "source": [
    "# Setup\n",
    "N = 1000\n",
    "data = make_moons(N, noise=0.15)\n",
    "\n",
    "X, ground_truth = data\n",
    "X1, X2 = X[ground_truth == 0,:], X[ground_truth == 1,:] \n",
    "ground_truth[np.where(ground_truth == 0)] = -1\n",
    "\n",
    "#plt.rcParams['figure.figsize'] =(6,6)\n",
    "plt.scatter(X1[:,0], X1[:,1], c='r')\n",
    "plt.scatter(X2[:,0], X2[:,1], c='b')\n",
    "plt.title('Two Moons dataset')\n",
    "plt.show()\n",
    "\n",
    "\n",
    "\n",
    "# Define the labeled and unlabed indices\n",
    "sup_percent = 0.1\n",
    "indices = np.array(list(range(N)))\n",
    "labeled_orig = set()\n",
    "fid_orig = {}\n",
    "gt_flipped = {}\n",
    "for i in [-1,1]:\n",
    "    i_mask = indices[ground_truth ==i]\n",
    "    gt_flipped[i] = i_mask\n",
    "    np.random.shuffle(i_mask)\n",
    "    n_i = len(i_mask)\n",
    "    fid_orig[i] = list(i_mask[:int(sup_percent*n_i)])\n",
    "    labeled_orig = labeled_orig.union(set(fid_orig[i]))\n",
    "unlabeled_orig = sorted(list(set(indices) - labeled_orig))\n",
    "labeled_orig = sorted(list(labeled_orig))\n",
    "\n",
    "\n",
    "# Graph Generation and Eigen-Calculation\n",
    "W = make_sim_graph(X)\n",
    "w,v = get_eig_Lnorm(W)\n",
    "\n",
    "\n",
    "# Model Setup\n",
    "tau, alpha, gamma = 0.001, 1.0, 0.0001\n",
    "gamma2 = gamma**2.\n",
    "verbose = True     # set to True if want to see visual of which points chosen\n",
    "num_iters = 20"
   ]
  },
  {
   "cell_type": "code",
   "execution_count": null,
   "metadata": {},
   "outputs": [],
   "source": [
    "# Active Learning Choices -- EEM \n",
    "labeled = labeled_orig.copy()\n",
    "unlabeled = unlabeled_orig.copy()\n",
    "fid = copy.deepcopy(fid_orig)\n",
    "\n",
    "ERRS,M = run_test_AL(X, v, w, labeled, unlabeled, fid, ground_truth, gt_flipped, tau, alpha, gamma2, iters=num_iters, verbose=verbose)\n",
    "if verbose:\n",
    "    print(ERRS)"
   ]
  },
  {
   "cell_type": "code",
   "execution_count": null,
   "metadata": {
    "scrolled": true
   },
   "outputs": [],
   "source": [
    "# Random choice\n",
    "labeled = labeled_orig.copy()\n",
    "unlabeled = unlabeled_orig.copy()\n",
    "fid = copy.deepcopy(fid_orig)\n",
    "\n",
    "ERRS_rand, M_rand = run_test_rand(X, v, w, labeled, unlabeled, fid, ground_truth, gt_flipped, tau, alpha, gamma2, iters=num_iters, verbose=verbose)\n",
    "if verbose:\n",
    "    print(ERRS_rand)"
   ]
  },
  {
   "cell_type": "markdown",
   "metadata": {},
   "source": [
    "## Error Plotting - 2 Moons "
   ]
  },
  {
   "cell_type": "code",
   "execution_count": null,
   "metadata": {},
   "outputs": [],
   "source": [
    "colors = ['y', 'r', 'k', 'g']\n",
    "ids, errs = zip(*ERRS)\n",
    "ids_rand, errs_rand = zip(*ERRS_rand)\n",
    "plt.figure()\n",
    "plt.plot([i for i in range(num_iters+1)], errs, 'b--', label='AL')\n",
    "plt.plot([i for i in range(num_iters+1)], errs_rand, 'g-o', label='rand')\n",
    "for i in range(4):\n",
    "    labeled = labeled_orig.copy()\n",
    "    unlabeled = unlabeled_orig.copy()\n",
    "    fid = copy.deepcopy(fid_orig)\n",
    "\n",
    "    ERRS_rand, M_rand = run_test_rand(X, v, w, labeled, unlabeled, fid, ground_truth, gt_flipped, tau, alpha, gamma2, iters=num_iters, verbose=False)\n",
    "    ids_rand, errs_rand = zip(*ERRS_rand)\n",
    "    plt.plot([i for i in range(num_iters+1)], errs_rand,'%so-'%colors[i], label='rand')\n",
    "plt.legend()\n"
   ]
  },
  {
   "cell_type": "code",
   "execution_count": null,
   "metadata": {},
   "outputs": [],
   "source": []
  }
 ],
 "metadata": {
  "kernelspec": {
   "display_name": "Python 3",
   "language": "python",
   "name": "python3"
  },
  "language_info": {
   "codemirror_mode": {
    "name": "ipython",
    "version": 3
   },
   "file_extension": ".py",
   "mimetype": "text/x-python",
   "name": "python",
   "nbconvert_exporter": "python",
   "pygments_lexer": "ipython3",
   "version": "3.6.7"
  }
 },
 "nbformat": 4,
 "nbformat_minor": 2
}
